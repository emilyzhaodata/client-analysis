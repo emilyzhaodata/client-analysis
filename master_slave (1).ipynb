{
 "cells": [
  {
   "cell_type": "code",
   "execution_count": 2,
   "metadata": {},
   "outputs": [],
   "source": [
    "import pandas as pd\n",
    "import numpy as np"
   ]
  },
  {
   "cell_type": "code",
   "execution_count": 3,
   "metadata": {},
   "outputs": [],
   "source": [
    "#change the dataset here\n",
    "path = 'MaterSlave.xlsx'"
   ]
  },
  {
   "cell_type": "code",
   "execution_count": 4,
   "metadata": {},
   "outputs": [],
   "source": [
    "#open the sheets in the excel file\n",
    "df = pd.read_excel(open(path, 'rb'), sheet_name='Master+Slave')\n",
    "df_Master_seeds = pd.read_excel(open(path, 'rb'), sheet_name='Master')"
   ]
  },
  {
   "cell_type": "code",
   "execution_count": 5,
   "metadata": {},
   "outputs": [
    {
     "data": {
      "text/plain": [
       "(42454, 4)"
      ]
     },
     "execution_count": 5,
     "metadata": {},
     "output_type": "execute_result"
    }
   ],
   "source": [
    "#identify the size of dataset\n",
    "df.shape"
   ]
  },
  {
   "cell_type": "code",
   "execution_count": 6,
   "metadata": {},
   "outputs": [
    {
     "data": {
      "text/plain": [
       "Index(['ID User', 'ID Master', 'Seats', 'Status'], dtype='object')"
      ]
     },
     "execution_count": 6,
     "metadata": {},
     "output_type": "execute_result"
    }
   ],
   "source": [
    "#identify the columns\n",
    "df.columns"
   ]
  },
  {
   "cell_type": "code",
   "execution_count": 7,
   "metadata": {},
   "outputs": [],
   "source": [
    "#identify the user status\n",
    "df = df[(df.Status == 'Master') | (df.Status == 'Slave')]"
   ]
  },
  {
   "cell_type": "code",
   "execution_count": 8,
   "metadata": {},
   "outputs": [],
   "source": [
    "\n",
    "df_Master = df[df.Status == 'Master'].copy()[['ID User','Seats']]\n",
    "df_Slave = df[df.Status == 'Slave'].copy()"
   ]
  },
  {
   "cell_type": "code",
   "execution_count": 9,
   "metadata": {},
   "outputs": [],
   "source": [
    "#convert the datatype of \"ID User\"\n",
    "df_Slave['ID User'] = df_Slave['ID User'].astype('str')"
   ]
  },
  {
   "cell_type": "code",
   "execution_count": 10,
   "metadata": {},
   "outputs": [],
   "source": [
    "\n",
    "df_Master = df_Master.rename(columns={'ID User': 'ID Master'})"
   ]
  },
  {
   "cell_type": "code",
   "execution_count": 11,
   "metadata": {},
   "outputs": [],
   "source": [
    "\n",
    "df_t = df_Slave.groupby('ID Master', as_index=False).agg({'Seats': 'sum', 'ID User': lambda x: ' '.join(x)})"
   ]
  },
  {
   "cell_type": "code",
   "execution_count": 12,
   "metadata": {},
   "outputs": [
    {
     "data": {
      "text/html": [
       "<div>\n",
       "<style scoped>\n",
       "    .dataframe tbody tr th:only-of-type {\n",
       "        vertical-align: middle;\n",
       "    }\n",
       "\n",
       "    .dataframe tbody tr th {\n",
       "        vertical-align: top;\n",
       "    }\n",
       "\n",
       "    .dataframe thead th {\n",
       "        text-align: right;\n",
       "    }\n",
       "</style>\n",
       "<table border=\"1\" class=\"dataframe\">\n",
       "  <thead>\n",
       "    <tr style=\"text-align: right;\">\n",
       "      <th></th>\n",
       "      <th>ID Master</th>\n",
       "      <th>Seats</th>\n",
       "    </tr>\n",
       "  </thead>\n",
       "  <tbody>\n",
       "    <tr>\n",
       "      <th>7</th>\n",
       "      <td>2108523</td>\n",
       "      <td>50</td>\n",
       "    </tr>\n",
       "    <tr>\n",
       "      <th>8</th>\n",
       "      <td>1211251</td>\n",
       "      <td>1000</td>\n",
       "    </tr>\n",
       "    <tr>\n",
       "      <th>22</th>\n",
       "      <td>2025730</td>\n",
       "      <td>50</td>\n",
       "    </tr>\n",
       "    <tr>\n",
       "      <th>37</th>\n",
       "      <td>2104688</td>\n",
       "      <td>50</td>\n",
       "    </tr>\n",
       "    <tr>\n",
       "      <th>38</th>\n",
       "      <td>2105576</td>\n",
       "      <td>50</td>\n",
       "    </tr>\n",
       "  </tbody>\n",
       "</table>\n",
       "</div>"
      ],
      "text/plain": [
       "    ID Master  Seats\n",
       "7     2108523     50\n",
       "8     1211251   1000\n",
       "22    2025730     50\n",
       "37    2104688     50\n",
       "38    2105576     50"
      ]
     },
     "execution_count": 12,
     "metadata": {},
     "output_type": "execute_result"
    }
   ],
   "source": [
    "df_Master.head()"
   ]
  },
  {
   "cell_type": "code",
   "execution_count": 13,
   "metadata": {},
   "outputs": [],
   "source": [
    "#count how many slaves in one master account\n",
    "df_t['Slave_count'] = df_t['ID User'].apply(lambda x: x.count(' ')+1)"
   ]
  },
  {
   "cell_type": "code",
   "execution_count": 14,
   "metadata": {},
   "outputs": [],
   "source": [
    "#change the datatype of \"ID Master\"\n",
    "df_t['ID Master'] = df_t['ID Master'].astype('int64')"
   ]
  },
  {
   "cell_type": "code",
   "execution_count": 15,
   "metadata": {},
   "outputs": [
    {
     "data": {
      "text/html": [
       "<div>\n",
       "<style scoped>\n",
       "    .dataframe tbody tr th:only-of-type {\n",
       "        vertical-align: middle;\n",
       "    }\n",
       "\n",
       "    .dataframe tbody tr th {\n",
       "        vertical-align: top;\n",
       "    }\n",
       "\n",
       "    .dataframe thead th {\n",
       "        text-align: right;\n",
       "    }\n",
       "</style>\n",
       "<table border=\"1\" class=\"dataframe\">\n",
       "  <thead>\n",
       "    <tr style=\"text-align: right;\">\n",
       "      <th></th>\n",
       "      <th>ID Master</th>\n",
       "      <th>Seats</th>\n",
       "      <th>ID User</th>\n",
       "      <th>Slave_count</th>\n",
       "    </tr>\n",
       "  </thead>\n",
       "  <tbody>\n",
       "    <tr>\n",
       "      <th>0</th>\n",
       "      <td>88813</td>\n",
       "      <td>1034</td>\n",
       "      <td>10046 23094 26292 30237 35291 38085 40040 4153...</td>\n",
       "      <td>1216</td>\n",
       "    </tr>\n",
       "    <tr>\n",
       "      <th>1</th>\n",
       "      <td>138730</td>\n",
       "      <td>2</td>\n",
       "      <td>669809 669839 669836 669833 669831 669828 6698...</td>\n",
       "      <td>20</td>\n",
       "    </tr>\n",
       "    <tr>\n",
       "      <th>2</th>\n",
       "      <td>142922</td>\n",
       "      <td>1</td>\n",
       "      <td>1285693 1347421 1632672 1902688 2072695 1417091</td>\n",
       "      <td>6</td>\n",
       "    </tr>\n",
       "    <tr>\n",
       "      <th>3</th>\n",
       "      <td>149642</td>\n",
       "      <td>50</td>\n",
       "      <td>2081909 1288620</td>\n",
       "      <td>2</td>\n",
       "    </tr>\n",
       "    <tr>\n",
       "      <th>4</th>\n",
       "      <td>189053</td>\n",
       "      <td>75</td>\n",
       "      <td>442781 744765 748312 829592 862432 877001 9094...</td>\n",
       "      <td>107</td>\n",
       "    </tr>\n",
       "  </tbody>\n",
       "</table>\n",
       "</div>"
      ],
      "text/plain": [
       "   ID Master  Seats                                            ID User  \\\n",
       "0      88813   1034  10046 23094 26292 30237 35291 38085 40040 4153...   \n",
       "1     138730      2  669809 669839 669836 669833 669831 669828 6698...   \n",
       "2     142922      1    1285693 1347421 1632672 1902688 2072695 1417091   \n",
       "3     149642     50                                    2081909 1288620   \n",
       "4     189053     75  442781 744765 748312 829592 862432 877001 9094...   \n",
       "\n",
       "   Slave_count  \n",
       "0         1216  \n",
       "1           20  \n",
       "2            6  \n",
       "3            2  \n",
       "4          107  "
      ]
     },
     "execution_count": 15,
     "metadata": {},
     "output_type": "execute_result"
    }
   ],
   "source": [
    "#see the new dataset\n",
    "df_t.head()"
   ]
  },
  {
   "cell_type": "code",
   "execution_count": 16,
   "metadata": {},
   "outputs": [],
   "source": [
    "#see the master seats\n",
    "df_total_seats = df_t.merge(df_Master, on = ['ID Master'])"
   ]
  },
  {
   "cell_type": "code",
   "execution_count": 17,
   "metadata": {},
   "outputs": [],
   "source": [
    "#calculate the totle seats\n",
    "df_total_seats['Seats'] = df_total_seats.Seats_x + df_total_seats.Seats_y"
   ]
  },
  {
   "cell_type": "code",
   "execution_count": 18,
   "metadata": {},
   "outputs": [
    {
     "data": {
      "text/html": [
       "<div>\n",
       "<style scoped>\n",
       "    .dataframe tbody tr th:only-of-type {\n",
       "        vertical-align: middle;\n",
       "    }\n",
       "\n",
       "    .dataframe tbody tr th {\n",
       "        vertical-align: top;\n",
       "    }\n",
       "\n",
       "    .dataframe thead th {\n",
       "        text-align: right;\n",
       "    }\n",
       "</style>\n",
       "<table border=\"1\" class=\"dataframe\">\n",
       "  <thead>\n",
       "    <tr style=\"text-align: right;\">\n",
       "      <th></th>\n",
       "      <th>ID Master</th>\n",
       "      <th>Seats_x</th>\n",
       "      <th>ID User</th>\n",
       "      <th>Slave_count</th>\n",
       "      <th>Seats_y</th>\n",
       "      <th>Seats</th>\n",
       "    </tr>\n",
       "  </thead>\n",
       "  <tbody>\n",
       "    <tr>\n",
       "      <th>0</th>\n",
       "      <td>138730</td>\n",
       "      <td>2</td>\n",
       "      <td>669809 669839 669836 669833 669831 669828 6698...</td>\n",
       "      <td>20</td>\n",
       "      <td>20</td>\n",
       "      <td>22</td>\n",
       "    </tr>\n",
       "    <tr>\n",
       "      <th>1</th>\n",
       "      <td>142922</td>\n",
       "      <td>1</td>\n",
       "      <td>1285693 1347421 1632672 1902688 2072695 1417091</td>\n",
       "      <td>6</td>\n",
       "      <td>9</td>\n",
       "      <td>10</td>\n",
       "    </tr>\n",
       "    <tr>\n",
       "      <th>2</th>\n",
       "      <td>149642</td>\n",
       "      <td>50</td>\n",
       "      <td>2081909 1288620</td>\n",
       "      <td>2</td>\n",
       "      <td>3</td>\n",
       "      <td>53</td>\n",
       "    </tr>\n",
       "    <tr>\n",
       "      <th>3</th>\n",
       "      <td>194312</td>\n",
       "      <td>0</td>\n",
       "      <td>686472 1300699 1472320 1472321 1575122 1614128...</td>\n",
       "      <td>13</td>\n",
       "      <td>14</td>\n",
       "      <td>14</td>\n",
       "    </tr>\n",
       "    <tr>\n",
       "      <th>4</th>\n",
       "      <td>196908</td>\n",
       "      <td>0</td>\n",
       "      <td>1703417</td>\n",
       "      <td>1</td>\n",
       "      <td>4</td>\n",
       "      <td>4</td>\n",
       "    </tr>\n",
       "  </tbody>\n",
       "</table>\n",
       "</div>"
      ],
      "text/plain": [
       "   ID Master  Seats_x                                            ID User  \\\n",
       "0     138730        2  669809 669839 669836 669833 669831 669828 6698...   \n",
       "1     142922        1    1285693 1347421 1632672 1902688 2072695 1417091   \n",
       "2     149642       50                                    2081909 1288620   \n",
       "3     194312        0  686472 1300699 1472320 1472321 1575122 1614128...   \n",
       "4     196908        0                                            1703417   \n",
       "\n",
       "   Slave_count  Seats_y  Seats  \n",
       "0           20       20     22  \n",
       "1            6        9     10  \n",
       "2            2        3     53  \n",
       "3           13       14     14  \n",
       "4            1        4      4  "
      ]
     },
     "execution_count": 18,
     "metadata": {},
     "output_type": "execute_result"
    }
   ],
   "source": [
    "df_total_seats.head()"
   ]
  },
  {
   "cell_type": "code",
   "execution_count": 19,
   "metadata": {},
   "outputs": [],
   "source": [
    "#drop unnecessary columns for seats of different status and only leave the necessary one be in the dataset\n",
    "df_total_seats.drop(['Seats_x', 'Seats_y'], axis=1,inplace=True)"
   ]
  },
  {
   "cell_type": "code",
   "execution_count": 20,
   "metadata": {},
   "outputs": [
    {
     "data": {
      "text/html": [
       "<div>\n",
       "<style scoped>\n",
       "    .dataframe tbody tr th:only-of-type {\n",
       "        vertical-align: middle;\n",
       "    }\n",
       "\n",
       "    .dataframe tbody tr th {\n",
       "        vertical-align: top;\n",
       "    }\n",
       "\n",
       "    .dataframe thead th {\n",
       "        text-align: right;\n",
       "    }\n",
       "</style>\n",
       "<table border=\"1\" class=\"dataframe\">\n",
       "  <thead>\n",
       "    <tr style=\"text-align: right;\">\n",
       "      <th></th>\n",
       "      <th>ID Master</th>\n",
       "      <th>ID User</th>\n",
       "      <th>Slave_count</th>\n",
       "      <th>Seats</th>\n",
       "    </tr>\n",
       "  </thead>\n",
       "  <tbody>\n",
       "    <tr>\n",
       "      <th>0</th>\n",
       "      <td>138730</td>\n",
       "      <td>669809 669839 669836 669833 669831 669828 6698...</td>\n",
       "      <td>20</td>\n",
       "      <td>22</td>\n",
       "    </tr>\n",
       "    <tr>\n",
       "      <th>1</th>\n",
       "      <td>142922</td>\n",
       "      <td>1285693 1347421 1632672 1902688 2072695 1417091</td>\n",
       "      <td>6</td>\n",
       "      <td>10</td>\n",
       "    </tr>\n",
       "    <tr>\n",
       "      <th>2</th>\n",
       "      <td>149642</td>\n",
       "      <td>2081909 1288620</td>\n",
       "      <td>2</td>\n",
       "      <td>53</td>\n",
       "    </tr>\n",
       "    <tr>\n",
       "      <th>3</th>\n",
       "      <td>194312</td>\n",
       "      <td>686472 1300699 1472320 1472321 1575122 1614128...</td>\n",
       "      <td>13</td>\n",
       "      <td>14</td>\n",
       "    </tr>\n",
       "    <tr>\n",
       "      <th>4</th>\n",
       "      <td>196908</td>\n",
       "      <td>1703417</td>\n",
       "      <td>1</td>\n",
       "      <td>4</td>\n",
       "    </tr>\n",
       "  </tbody>\n",
       "</table>\n",
       "</div>"
      ],
      "text/plain": [
       "   ID Master                                            ID User  Slave_count  \\\n",
       "0     138730  669809 669839 669836 669833 669831 669828 6698...           20   \n",
       "1     142922    1285693 1347421 1632672 1902688 2072695 1417091            6   \n",
       "2     149642                                    2081909 1288620            2   \n",
       "3     194312  686472 1300699 1472320 1472321 1575122 1614128...           13   \n",
       "4     196908                                            1703417            1   \n",
       "\n",
       "   Seats  \n",
       "0     22  \n",
       "1     10  \n",
       "2     53  \n",
       "3     14  \n",
       "4      4  "
      ]
     },
     "execution_count": 20,
     "metadata": {},
     "output_type": "execute_result"
    }
   ],
   "source": [
    "df_total_seats.head()"
   ]
  },
  {
   "cell_type": "code",
   "execution_count": 21,
   "metadata": {},
   "outputs": [
    {
     "data": {
      "text/plain": [
       "ID Master       int64\n",
       "ID User        object\n",
       "Slave_count     int64\n",
       "Seats           int64\n",
       "dtype: object"
      ]
     },
     "execution_count": 21,
     "metadata": {},
     "output_type": "execute_result"
    }
   ],
   "source": [
    "df_total_seats.dtypes"
   ]
  },
  {
   "cell_type": "code",
   "execution_count": 22,
   "metadata": {},
   "outputs": [],
   "source": [
    "#Rename the column name\n",
    "df_Master_seeds = df_Master_seeds.rename(columns={'Master ID': 'ID Master'})"
   ]
  },
  {
   "cell_type": "code",
   "execution_count": 23,
   "metadata": {},
   "outputs": [
    {
     "data": {
      "text/plain": [
       "ID Master    int64\n",
       "dtype: object"
      ]
     },
     "execution_count": 23,
     "metadata": {},
     "output_type": "execute_result"
    }
   ],
   "source": [
    "df_Master_seeds.dtypes"
   ]
  },
  {
   "cell_type": "code",
   "execution_count": 24,
   "metadata": {},
   "outputs": [],
   "source": [
    "#merge the sheet one and sheet two\n",
    "df = df_Master_seeds.merge(df_total_seats, on=['ID Master'], how='outer')"
   ]
  },
  {
   "cell_type": "code",
   "execution_count": 25,
   "metadata": {},
   "outputs": [],
   "source": [
    "#export the dataset\n",
    "df.to_csv('Master_Slave_result.csv', index=True)"
   ]
  }
 ],
 "metadata": {
  "kernelspec": {
   "display_name": "Python 3",
   "language": "python",
   "name": "python3"
  },
  "language_info": {
   "codemirror_mode": {
    "name": "ipython",
    "version": 3
   },
   "file_extension": ".py",
   "mimetype": "text/x-python",
   "name": "python",
   "nbconvert_exporter": "python",
   "pygments_lexer": "ipython3",
   "version": "3.7.3"
  }
 },
 "nbformat": 4,
 "nbformat_minor": 2
}
